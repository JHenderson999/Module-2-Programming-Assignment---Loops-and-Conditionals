{
 "cells": [
  {
   "cell_type": "markdown",
   "id": "e2d9e555-6346-4b1e-9f22-833b22eb10cc",
   "metadata": {},
   "source": [
    "4.1 Choose a number between 1 and 10 and assign it to the variable secret. Then, select another number between 1 and 10 and assign it to the variable guess. Next, write the conditional tests (if, else, and elif) to print the string 'too low' if guess is less than secret, 'too high' if greater than secret, and 'just right' if equal to secret."
   ]
  },
  {
   "cell_type": "code",
   "execution_count": 82,
   "id": "d7cd3c38-b6d8-4370-85b3-08f154a241af",
   "metadata": {},
   "outputs": [
    {
     "name": "stdout",
     "output_type": "stream",
     "text": [
      "too low\n"
     ]
    }
   ],
   "source": [
    "secret = 7\n",
    "guess = 5\n",
    "if guess < secret:\n",
    "    print('too low')\n",
    "elif guess > secret:\n",
    "    print ('too high')\n",
    "elif guess == secret:\n",
    "    print ('just right')"
   ]
  },
  {
   "cell_type": "markdown",
   "id": "3697a1e8-a6c2-463b-874a-01bd05fe8554",
   "metadata": {},
   "source": [
    "4.2 Assign True or False to the variables small and green. Write some if/else statements to print which of these matches those choices: cherry, pea, watermelon, pumpkin."
   ]
  },
  {
   "cell_type": "code",
   "execution_count": 83,
   "id": "7397e469-686b-44f7-804a-c158c537ad30",
   "metadata": {},
   "outputs": [
    {
     "name": "stdout",
     "output_type": "stream",
     "text": [
      "It is small. It could either be a pea or a cherry.\n",
      "It is green. It could either be a watermelon or a pea.\n",
      "It is a: pea\n"
     ]
    }
   ],
   "source": [
    "small = True\n",
    "green = True\n",
    "pea = \"pea\"\n",
    "cherry = \"cherry\"\n",
    "watermelon = \"watermelon\"\n",
    "pumpkin = \"pumpkin\"\n",
    "cherry_color = pumpkin_color = \"not green\"\n",
    "if small:\n",
    "    print(\"It is small. It could either be a pea or a cherry.\")\n",
    "else:\n",
    "    print(\"It is large. It could either be a watermelon or a pumpkin.\")\n",
    "if green:\n",
    "    print(\"It is green. It could either be a watermelon or a pea.\")\n",
    "else:\n",
    "    print(\"It is not green. It could either be a pumpkin or a cherry.\")\n",
    "if small and green:\n",
    "    final_output = pea\n",
    "print(\"It is a:\", final_output)\n"
   ]
  },
  {
   "cell_type": "markdown",
   "id": "530d3b6e-cd34-4d84-a112-af52bd4243fd",
   "metadata": {},
   "source": [
    "6.1 Use a for loop to print the values of the list [3, 2, 1, 0]."
   ]
  },
  {
   "cell_type": "code",
   "execution_count": 84,
   "id": "d920cda0-c20a-42a1-9887-73bb9a46c76b",
   "metadata": {},
   "outputs": [
    {
     "name": "stdout",
     "output_type": "stream",
     "text": [
      "3\n",
      "2\n",
      "1\n",
      "0\n"
     ]
    }
   ],
   "source": [
    "list = [3, 2, 1, 0]\n",
    "for int in list:\n",
    "    print(int)"
   ]
  },
  {
   "cell_type": "markdown",
   "id": "a9ad62b9-f5de-45de-8b38-71651c62b01c",
   "metadata": {},
   "source": [
    "6.2 Assign the value 7 to the variable guess_me, and the value 1 to the variable number. Write a while loop that compares number with guess_me. Print 'too low' if number is less than guess me. If number equals guess_me, print 'found it!' and then exit the loop. If number is greater than guess_me, print 'oops' and then exit the loop. Increment number at the end of the loop."
   ]
  },
  {
   "cell_type": "code",
   "execution_count": 85,
   "id": "2b4b5970-8c67-4dfd-b95f-2b666e11ab65",
   "metadata": {},
   "outputs": [
    {
     "name": "stdout",
     "output_type": "stream",
     "text": [
      "too low\n",
      "too low\n",
      "too low\n",
      "too low\n",
      "too low\n",
      "too low\n",
      "found it!\n"
     ]
    }
   ],
   "source": [
    "guess_me = 7\n",
    "number = 1\n",
    "\n",
    "while True:\n",
    "    if number < guess_me:\n",
    "        print('too low')\n",
    "    elif number == guess_me:\n",
    "        print('found it!')\n",
    "        break\n",
    "    else:\n",
    "        print('oops')\n",
    "        break\n",
    "    \n",
    "    number += 1"
   ]
  },
  {
   "cell_type": "markdown",
   "id": "1981ae4d-b7d3-40e5-b9e6-073acc7f3bc4",
   "metadata": {},
   "source": [
    "6.3 Assign the value 5 to the variable guess_me. Use a for loop to iterate a variable called number over range(10). If number is less than guess_me, print 'too low'. If it equals guess_me, print found it! and then break out of the for loop. If number is greater than guess_me, print 'oops' and then exit the loop."
   ]
  },
  {
   "cell_type": "code",
   "execution_count": 86,
   "id": "d5a30c76-4b76-4974-b71a-084792867d77",
   "metadata": {},
   "outputs": [
    {
     "name": "stdout",
     "output_type": "stream",
     "text": [
      "too low\n",
      "too low\n",
      "too low\n",
      "too low\n",
      "too low\n",
      "found it!\n"
     ]
    }
   ],
   "source": [
    "guess_me = 5\n",
    "for number in range(10):\n",
    "    if number < guess_me:\n",
    "        print('too low')\n",
    "    elif number == guess_me:\n",
    "        print('found it!')\n",
    "        break\n",
    "    if number > guess_me:\n",
    "        print('oops')\n",
    "        break"
   ]
  }
 ],
 "metadata": {
  "kernelspec": {
   "display_name": "Python 3 (ipykernel)",
   "language": "python",
   "name": "python3"
  },
  "language_info": {
   "codemirror_mode": {
    "name": "ipython",
    "version": 3
   },
   "file_extension": ".py",
   "mimetype": "text/x-python",
   "name": "python",
   "nbconvert_exporter": "python",
   "pygments_lexer": "ipython3",
   "version": "3.12.7"
  }
 },
 "nbformat": 4,
 "nbformat_minor": 5
}
